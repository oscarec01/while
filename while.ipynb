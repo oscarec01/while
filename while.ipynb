{
 "cells": [
  {
   "cell_type": "markdown",
   "metadata": {},
   "source": [
    "# While: break y continue"
   ]
  },
  {
   "cell_type": "markdown",
   "metadata": {},
   "source": [
    "el ciclo while permite repetir un grupo de instrucciones, siempre y cuando se cumpla una condición, es decir siempre y cuando el resultado de la operación logia sea TRUE "
   ]
  },
  {
   "cell_type": "code",
   "execution_count": 8,
   "metadata": {},
   "outputs": [
    {
     "name": "stdout",
     "output_type": "stream",
     "text": [
      "0\n",
      "1\n",
      "2\n",
      "3\n",
      "4\n",
      "5\n",
      "6\n",
      "7\n",
      "8\n",
      "9\n",
      "10\n"
     ]
    }
   ],
   "source": [
    "\"\"\"la sintaxis correcta es:\n",
    "    \n",
    "While (condicion 'Operación logia que devuelve TRUE'):\n",
    "    lineas de comandos a repetir\n",
    "    \n",
    "Ejemplo practico imprimiendo los numeros del 0 a 10\n",
    "\"\"\"\n",
    "i=0 #declaramos la variable i\n",
    "while i<11: #definimos que siempre que i sea menos que 11 repetimos el ciclo\n",
    "    print(i) #imprimimos el valro actual de i\n",
    "    i+=1     #agregamos uno a i, con esto le damos un nuevo valor"
   ]
  },
  {
   "cell_type": "markdown",
   "metadata": {},
   "source": [
    "la palabra reservada break sirve para para la ejecucion del codigo en un momento determinado, si aun se cumple la condicion establecida"
   ]
  },
  {
   "cell_type": "code",
   "execution_count": 5,
   "metadata": {},
   "outputs": [
    {
     "name": "stdout",
     "output_type": "stream",
     "text": [
      "0\n",
      "1\n",
      "2\n",
      "3\n",
      "4\n",
      "5\n"
     ]
    }
   ],
   "source": [
    "\"\"\"ahora vamos a cancelar la ejecucion cunado el valor de i sea igual a 6\n",
    "\"\"\"\n",
    "i=0 #declaramos la variable i\n",
    "while i<11: #definimos que siempre que i sea menos que 11 repetimos el ciclo\n",
    "    print(i) #imprimimos el valro actual de i\n",
    "    i+=1     #agregamos uno a i, con esto le damos un nuevo valor\n",
    "    if i == 6: #evaluamos si i tiene el valor de 6\n",
    "        break #en caso que sea afirmativo rompemos el ciclo en este punto.\n",
    "    "
   ]
  },
  {
   "cell_type": "markdown",
   "metadata": {},
   "source": [
    "la palabra reservada continue nos omite un proceso y continua con la ejecución del ciclo siempre y cuando se cumpla la condición"
   ]
  },
  {
   "cell_type": "code",
   "execution_count": 7,
   "metadata": {},
   "outputs": [
    {
     "name": "stdout",
     "output_type": "stream",
     "text": [
      "0\n",
      "1\n",
      "2\n",
      "3\n",
      "4\n",
      "5\n",
      "6\n",
      "7\n",
      "8\n",
      "9\n",
      "10\n"
     ]
    }
   ],
   "source": [
    "\"\"\"ahora vamos a omitir la cancelación que agregamos anteriormente\n",
    "\"\"\"\n",
    "i=0 #declaramos la variable i\n",
    "while i<11: #definimos que siempre que i sea menos que 11 repetimos el ciclo\n",
    "    print(i) #imprimimos el valro actual de i\n",
    "    i+=1     #agregamos uno a i, con esto le damos un nuevo valor\n",
    "    if i == 6: #validamos que  i tenga el valor de 6\n",
    "        continue #antes que se realice la siguiente validación saltamos las líneas de comando y  pasamos a la siguiente repetición \n",
    "    if i == 6: #evaluamos si i tiene el valor de 6\n",
    "        break #en caso que sea afirmativo rompemos el ciclo en este punto."
   ]
  }
 ],
 "metadata": {
  "kernelspec": {
   "display_name": "Python 3",
   "language": "python",
   "name": "python3"
  },
  "language_info": {
   "codemirror_mode": {
    "name": "ipython",
    "version": 3
   },
   "file_extension": ".py",
   "mimetype": "text/x-python",
   "name": "python",
   "nbconvert_exporter": "python",
   "pygments_lexer": "ipython3",
   "version": "3.7.4"
  }
 },
 "nbformat": 4,
 "nbformat_minor": 4
}
